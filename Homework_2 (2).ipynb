{
 "cells": [
  {
   "cell_type": "code",
   "execution_count": 6,
   "id": "3edaf25f",
   "metadata": {},
   "outputs": [
    {
     "name": "stdout",
     "output_type": "stream",
     "text": [
      "[[0 0 0 0 0]\n",
      " [1 0 0 0 0]\n",
      " [0 2 0 0 0]\n",
      " [0 0 3 0 0]\n",
      " [0 0 0 4 0]]\n"
     ]
    }
   ],
   "source": [
    "import numpy as np\n",
    "Z = np.diag(np.arange(1, 5), k = -1)\n",
    "print(Z)"
   ]
  },
  {
   "cell_type": "code",
   "execution_count": 84,
   "id": "359152f2",
   "metadata": {},
   "outputs": [
    {
     "name": "stdout",
     "output_type": "stream",
     "text": [
      "[[0.76394856 0.71074192 0.57073384]\n",
      " [0.13109218 0.35912212 0.48494093]\n",
      " [0.16295389 0.17192444 0.91495485]\n",
      " [0.82214742 0.98510211 0.537318  ]\n",
      " [0.19343417 0.04208858 0.38772326]\n",
      " [0.70163522 0.36226156 0.53019866]\n",
      " [0.15991942 0.2242868  0.0195853 ]\n",
      " [0.60355881 0.70241527 0.11123747]\n",
      " [0.73564568 0.18038333 0.57695721]\n",
      " [0.13267901 0.75642215 0.03206936]]\n"
     ]
    },
    {
     "data": {
      "text/plain": [
       "array([0.51505907, 0.82807556, 0.61227674, 0.53019866, 0.7757132 ,\n",
       "       0.60355881, 0.57695721, 0.75642215])"
      ]
     },
     "execution_count": 84,
     "metadata": {},
     "output_type": "execute_result"
    }
   ],
   "source": [
    "arr = np.random.random((10, 3))\n",
    "print(arr)\n",
    "    \n",
    "(0.5 + np.min(np.fabs(arr-0.5), axis = 1))[np.min(arr -0.5, axis = 1) != np.min(np.fabs(arr-0.5), axis = 1)]\n",
    "\n",
    "# (0.5 + np.min(np.fabs(arr-0.5), axis = 1))\n",
    "\n",
    "# 0.5 + np.min(arr -0.5, axis = 1) != 0.5 + np.min(np.fabs(arr-0.5), axis = 1)"
   ]
  },
  {
   "cell_type": "code",
   "execution_count": 51,
   "id": "a14309ab",
   "metadata": {},
   "outputs": [
    {
     "data": {
      "text/plain": [
       "array([4.02723142, 3.12495295, 3.37881592, 3.09991846, 3.04966049,\n",
       "       3.94204596])"
      ]
     },
     "execution_count": 51,
     "metadata": {},
     "output_type": "execute_result"
    }
   ],
   "source": [
    "arr = np.random.random((6, 6))\n",
    "np.sum(arr, axis = 1)/np.max(arr, axis = 1)"
   ]
  },
  {
   "cell_type": "code",
   "execution_count": 62,
   "id": "083219b5",
   "metadata": {
    "scrolled": true
   },
   "outputs": [
    {
     "data": {
      "text/plain": [
       "array([2., 2., 2., 2., 1., 4., 1., 1., 2., 1.])"
      ]
     },
     "execution_count": 62,
     "metadata": {},
     "output_type": "execute_result"
    }
   ],
   "source": [
    "x = np.ones(10)\n",
    "i = np.array([0, 1, 2, 3, 5, 5, 5, 8])\n",
    "x[np.unique(i, return_counts = True)[0]] = x[np.unique(i, return_counts = True)[0]] + np.unique(i, return_counts = True)[1] \n",
    "x\n"
   ]
  },
  {
   "cell_type": "code",
   "execution_count": 69,
   "id": "f60fadae",
   "metadata": {},
   "outputs": [
    {
     "data": {
      "text/plain": [
       "6"
      ]
     },
     "execution_count": 69,
     "metadata": {},
     "output_type": "execute_result"
    }
   ],
   "source": [
    "x = np.array([6, 2, 0, 3, 0, 0, 5, 7, 0])\n",
    "np.max(x[(np.argwhere(x == 0)+1)%x.shape])"
   ]
  },
  {
   "cell_type": "code",
   "execution_count": 74,
   "id": "bcb664be",
   "metadata": {},
   "outputs": [
    {
     "data": {
      "text/plain": [
       "(1, 1, 1.0)"
      ]
     },
     "execution_count": 74,
     "metadata": {},
     "output_type": "execute_result"
    }
   ],
   "source": [
    "x = 1.235\n",
    "round(x), int(x), np.floor(x)"
   ]
  },
  {
   "cell_type": "code",
   "execution_count": null,
   "id": "734831ed",
   "metadata": {},
   "outputs": [],
   "source": [
    "def kNN(train_X, train_Y ,test_X, k=8):\n",
    "    for i in test_X:\n",
    "        "
   ]
  }
 ],
 "metadata": {
  "kernelspec": {
   "display_name": "Python 3 (ipykernel)",
   "language": "python",
   "name": "python3"
  },
  "language_info": {
   "codemirror_mode": {
    "name": "ipython",
    "version": 3
   },
   "file_extension": ".py",
   "mimetype": "text/x-python",
   "name": "python",
   "nbconvert_exporter": "python",
   "pygments_lexer": "ipython3",
   "version": "3.10.0"
  }
 },
 "nbformat": 4,
 "nbformat_minor": 5
}
