{
  "cells": [
    {
      "cell_type": "markdown",
      "source": [
        "1"
      ],
      "metadata": {
        "id": "EKeWAo7IGbQR"
      },
      "id": "EKeWAo7IGbQR"
    },
    {
      "cell_type": "code",
      "execution_count": null,
      "id": "3edaf25f",
      "metadata": {
        "colab": {
          "base_uri": "https://localhost:8080/"
        },
        "id": "3edaf25f",
        "outputId": "1459d518-f265-44a8-bf10-41a134929f9e"
      },
      "outputs": [
        {
          "output_type": "execute_result",
          "data": {
            "text/plain": [
              "array([[0, 0, 0, 0, 0],\n",
              "       [1, 0, 0, 0, 0],\n",
              "       [0, 2, 0, 0, 0],\n",
              "       [0, 0, 3, 0, 0],\n",
              "       [0, 0, 0, 4, 0]])"
            ]
          },
          "metadata": {},
          "execution_count": 2
        }
      ],
      "source": [
        "import numpy as np\n",
        "np.diag(np.arange(1, 5), k = -1)"
      ]
    },
    {
      "cell_type": "markdown",
      "source": [
        "2"
      ],
      "metadata": {
        "id": "a-R6n6uaJPIt"
      },
      "id": "a-R6n6uaJPIt"
    },
    {
      "cell_type": "code",
      "execution_count": null,
      "id": "359152f2",
      "metadata": {
        "colab": {
          "base_uri": "https://localhost:8080/"
        },
        "id": "359152f2",
        "outputId": "30c10636-36a4-4337-cb55-96b518d4e7e5"
      },
      "outputs": [
        {
          "output_type": "stream",
          "name": "stdout",
          "text": [
            "[[0.71793601 0.68009627 0.32165723]\n",
            " [0.17131011 0.0292934  0.25868487]\n",
            " [0.79926946 0.73592063 0.12550835]\n",
            " [0.11676921 0.68110938 0.1715552 ]\n",
            " [0.50080107 0.61789208 0.11910094]\n",
            " [0.45579077 0.0199831  0.76218246]\n",
            " [0.25284667 0.82390024 0.64361832]\n",
            " [0.33468229 0.14306078 0.3096137 ]\n",
            " [0.81686154 0.92200263 0.78336331]\n",
            " [0.969448   0.93521358 0.40511699]] [0.17834277 0.24131513 0.23592063 0.18110938 0.00080107 0.04420923\n",
            " 0.14361832 0.16531771 0.28336331 0.09488301]\n"
          ]
        }
      ],
      "source": [
        "a = np.random.random((10, 3))\n",
        "w = np.zeros(10)\n",
        "for i in range(10):\n",
        "  w[i] = np.min(np.fabs(a[i] - 0.5))\n",
        "print(a, w) "
      ]
    },
    {
      "cell_type": "markdown",
      "source": [
        "3"
      ],
      "metadata": {
        "id": "iGvPYGKrNkPR"
      },
      "id": "iGvPYGKrNkPR"
    },
    {
      "cell_type": "code",
      "execution_count": null,
      "id": "a14309ab",
      "metadata": {
        "colab": {
          "base_uri": "https://localhost:8080/"
        },
        "id": "a14309ab",
        "outputId": "f385f19b-51bd-416c-894a-f3d2a08b701c"
      },
      "outputs": [
        {
          "output_type": "execute_result",
          "data": {
            "text/plain": [
              "array([2.5146088 , 2.65772529, 2.57073215, 5.15927773, 6.39121252,\n",
              "       2.6848349 ])"
            ]
          },
          "metadata": {},
          "execution_count": 20
        }
      ],
      "source": [
        "arr = np.random.random((6, 6))\n",
        "np.sum(arr, axis = 1)/np.max(arr, axis = 0)"
      ]
    },
    {
      "cell_type": "markdown",
      "source": [
        "4"
      ],
      "metadata": {
        "id": "G4iEAch5Tmvq"
      },
      "id": "G4iEAch5Tmvq"
    },
    {
      "cell_type": "code",
      "execution_count": null,
      "id": "f60fadae",
      "metadata": {
        "colab": {
          "base_uri": "https://localhost:8080/"
        },
        "id": "f60fadae",
        "outputId": "4253e100-073f-4dad-8340-90ed1233603d"
      },
      "outputs": [
        {
          "output_type": "execute_result",
          "data": {
            "text/plain": [
              "20.0"
            ]
          },
          "metadata": {},
          "execution_count": 32
        }
      ],
      "source": [
        "x = np.array([6, 2, 0, 3, 0, 0, 5, 7, 0])\n",
        "k = 0\n",
        "for i in range(8):\n",
        "  if x[i] == 0:\n",
        "    w[k] = x[i+1]\n",
        "    k += 1\n",
        "np.max(w)"
      ]
    },
    {
      "cell_type": "markdown",
      "source": [
        "5"
      ],
      "metadata": {
        "id": "EqPZXMz3XbTY"
      },
      "id": "EqPZXMz3XbTY"
    },
    {
      "cell_type": "code",
      "execution_count": null,
      "id": "bcb664be",
      "metadata": {
        "colab": {
          "base_uri": "https://localhost:8080/"
        },
        "id": "bcb664be",
        "outputId": "93f6815a-edef-45f6-e762-bff4fa1ab93f"
      },
      "outputs": [
        {
          "output_type": "stream",
          "name": "stdout",
          "text": [
            "[2. 2. 2. 2. 1. 4. 1. 1. 2. 1.]\n"
          ]
        }
      ],
      "source": [
        " x = np.ones(10)\n",
        " i = np.array([0, 1, 2, 3, 5, 5, 5, 8])\n",
        " z = np.zeros(10)\n",
        " for k in range(10):\n",
        "   if np.argwhere(i == k).size != 0: \n",
        "     z[k] += np.argwhere(i == k).size\n",
        "print(x + z)"
      ]
    },
    {
      "cell_type": "markdown",
      "source": [
        "kNN"
      ],
      "metadata": {
        "id": "-YGJdvlqtSbo"
      },
      "id": "-YGJdvlqtSbo"
    },
    {
      "cell_type": "code",
      "source": [
        "from sklearn.datasets import fetch_openml\n",
        "from scipy.spatial.distance import cdist\n",
        "from sklearn.metrics import accuracy_score\n",
        "import matplotlib.pyplot as plt\n",
        "import numpy as np\n",
        "\n",
        "images, labels = fetch_openml('mnist_784', return_X_y=True, as_frame=False)\n",
        "train_size = 100\n",
        "train_images = images[:train_size]\n",
        "train_labels = labels[:train_size]\n",
        "test_size = 100\n",
        "test_images = images[-test_size:]\n",
        "test_labels = labels[-test_size:]\n",
        "\n",
        "def kNN(train_x, train_y, test, k) :\n",
        "  dist = cdist(train_x, test)\n",
        "  near = np.argsort(dist)[:,:k]\n",
        "  nearl = train_y[near]\n",
        "  all_classes = np.unique(train_y)\n",
        "  result = np.concatenate([(nearl == i).sum(axis = 1, keepdims = True) for i in all_classes], axis = 1)\n",
        "  result = result.argmax(axis = 1)\n",
        "  return all_classes[result]\n",
        "\n",
        "kNN(train_images, train_labels, test_images, 5)\n",
        "\n",
        "accuracy = []\n",
        "K = list(range(1,100))\n",
        "for t in K:\n",
        " knn = kNN(train_images, train_labels, test_images, k = t)\n",
        " accuracy.append(accuracy_score(test_labels, knn))\n",
        "plt.plot(K, accuracy)\n",
        "plt.xlabel(\"k\")\n",
        "plt.ylabel(\"Accuracy\")\n",
        "plt.show()"
      ],
      "metadata": {
        "colab": {
          "base_uri": "https://localhost:8080/",
          "height": 279
        },
        "id": "WsOhZqsgspV7",
        "outputId": "3e549999-e0fa-449e-a504-ac86fd60699e"
      },
      "id": "WsOhZqsgspV7",
      "execution_count": 18,
      "outputs": [
        {
          "output_type": "display_data",
          "data": {
            "text/plain": [
              "<Figure size 432x288 with 1 Axes>"
            ],
            "image/png": "[encoded data removed]"
          },
          "metadata": {
            "needs_background": "light"
          }
        }
      ]
    }
  ],
  "metadata": {
    "kernelspec": {
      "display_name": "Python 3 (ipykernel)",
      "language": "python",
      "name": "python3"
    },
    "language_info": {
      "codemirror_mode": {
        "name": "ipython",
        "version": 3
      },
      "file_extension": ".py",
      "mimetype": "text/x-python",
      "name": "python",
      "nbconvert_exporter": "python",
      "pygments_lexer": "ipython3",
      "version": "3.10.0"
    },
    "colab": {
      "provenance": []
    }
  },
  "nbformat": 4,
  "nbformat_minor": 5
}
