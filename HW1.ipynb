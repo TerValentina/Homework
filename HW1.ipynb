{
  "nbformat": 4,
  "nbformat_minor": 0,
  "metadata": {
    "colab": {
      "provenance": []
    },
    "kernelspec": {
      "name": "python3",
      "display_name": "Python 3"
    },
    "language_info": {
      "name": "python"
    }
  },
  "cells": [
    {
      "cell_type": "code",
      "source": [
        "class Test:\n",
        "    @staticmethod\n",
        "    def assert_equals(a, b, *args, **kwargs):\n",
        "        assert a == b\n",
        "        print('Passed')"
      ],
      "metadata": {
        "id": "TNDdGtLfh72_"
      },
      "execution_count": null,
      "outputs": []
    },
    {
      "cell_type": "markdown",
      "source": [
        "https://edabit.com/challenge/2zKetgAJp4WRFXiDT"
      ],
      "metadata": {
        "id": "zOxqV18Jh3Jg"
      }
    },
    {
      "cell_type": "code",
      "execution_count": null,
      "metadata": {
        "id": "jiwYEZ5XN-vQ"
      },
      "outputs": [],
      "source": [
        "def number_length(num):\n",
        "\ti = 10\n",
        "\tk = 1\n",
        "\twhile (num%i) < num:\n",
        "\t i = i*10\n",
        "\t k += 1\n",
        "\treturn(k)"
      ]
    },
    {
      "cell_type": "code",
      "source": [
        "Test.assert_equals(number_length(10), 2)\n",
        "Test.assert_equals(number_length(5000), 4)\n",
        "Test.assert_equals(number_length(0), 1)\n",
        "Test.assert_equals(number_length(4039182), 7)\n",
        "Test.assert_equals(number_length(9999999999999999), 16)\n",
        "Test.assert_equals(number_length(1), 1)\n",
        "Test.assert_equals(number_length(777777777777777777777777777777), 30)"
      ],
      "metadata": {
        "id": "QVuZOVQhilxY"
      },
      "execution_count": null,
      "outputs": []
    },
    {
      "cell_type": "markdown",
      "source": [
        "https://edabit.com/challenge/5XXXppAdfcGaootD9"
      ],
      "metadata": {
        "id": "9g7jrGSkjOHG"
      }
    },
    {
      "cell_type": "code",
      "source": [
        "def sum_odd_and_even(lst):\n",
        "  sumodd = 0\n",
        "  sumeven = 0\n",
        "  for i in lst:\n",
        "   if i % 2 == 0:\n",
        "    sumeven += i\n",
        "   else:\n",
        "    sumodd += i\n",
        "\t\n",
        "  ans = [sumeven, sumodd]\n",
        "  return(ans)"
      ],
      "metadata": {
        "id": "iPbVZubcjRQX"
      },
      "execution_count": null,
      "outputs": []
    },
    {
      "cell_type": "code",
      "source": [
        "Test.assert_equals(sum_odd_and_even([1, 2, 3, 4, 5, 6]), [12, 9])\n",
        "Test.assert_equals(sum_odd_and_even([-1, -2, -3, -4, -5, -6]), [-12, -9])\n",
        "Test.assert_equals(sum_odd_and_even([0, 0]), [0, 0])\n",
        "Test.assert_equals(sum_odd_and_even([]), [0, 0])"
      ],
      "metadata": {
        "colab": {
          "base_uri": "https://localhost:8080/"
        },
        "id": "RbbDgJRNrus4",
        "outputId": "230a52dd-da80-4bd8-ef76-6463e8f14dbf"
      },
      "execution_count": null,
      "outputs": [
        {
          "output_type": "stream",
          "name": "stdout",
          "text": [
            "Passed\n",
            "Passed\n",
            "Passed\n",
            "Passed\n"
          ]
        }
      ]
    },
    {
      "cell_type": "markdown",
      "source": [
        "https://edabit.com/challenge/3Ekam9jvbNKHDtx4K"
      ],
      "metadata": {
        "id": "-EG5rLTXuUTk"
      }
    },
    {
      "cell_type": "code",
      "source": [
        "import math\n",
        "def line_length(dot1, dot2):\n",
        "  r = math.sqrt((dot1[0] - dot2[0])**2 + (dot1[1] - dot2[1])**2)\n",
        "  r = round(r,2)\n",
        "  return(r)"
      ],
      "metadata": {
        "id": "azlGnCETuVVm"
      },
      "execution_count": null,
      "outputs": []
    },
    {
      "cell_type": "code",
      "source": [
        "Test.assert_equals(line_length([15, 7], [22, 11]), 8.06)\n",
        "Test.assert_equals(line_length([0, 0], [0, 0]), 0)\n",
        "Test.assert_equals(line_length([0, 0], [1, 1]), 1.41)\n",
        "Test.assert_equals(line_length([30, 10], [13, -5]), 22.67)"
      ],
      "metadata": {
        "colab": {
          "base_uri": "https://localhost:8080/"
        },
        "id": "pO-fAfeJuZv2",
        "outputId": "67841829-cbf8-44be-d657-1b7d649f8847"
      },
      "execution_count": null,
      "outputs": [
        {
          "output_type": "stream",
          "name": "stdout",
          "text": [
            "Passed\n",
            "Passed\n",
            "Passed\n",
            "Passed\n"
          ]
        }
      ]
    },
    {
      "cell_type": "markdown",
      "source": [
        "https://edabit.com/challenge/Cjtm4CpLzHDerQMfX"
      ],
      "metadata": {
        "id": "BUmFgOSTx_qi"
      }
    },
    {
      "cell_type": "code",
      "source": [
        "def area_of_country(name, area):\n",
        "  r = (area*100)/148940000\n",
        "  r = round(r,2)\n",
        "  st = str(r)\n",
        "  ans=name+\" is \"+st+\"%\"+\" of the total world's landmass\"\n",
        "  return(ans)"
      ],
      "metadata": {
        "id": "ehlArNGDyAxY"
      },
      "execution_count": null,
      "outputs": []
    },
    {
      "cell_type": "code",
      "source": [
        "Test.assert_equals(area_of_country(\"USA\", 9372610), \"USA is 6.29% of the total world's landmass\")\n",
        "Test.assert_equals(area_of_country(\"Russia\", 17098242), \"Russia is 11.48% of the total world's landmass\")\n",
        "Test.assert_equals(area_of_country(\"Iran\", 1648195), \"Iran is 1.11% of the total world's landmass\")\n",
        "Test.assert_equals(area_of_country(\"India\", 3287590), \"India is 2.21% of the total world's landmass\")\n",
        "Test.assert_equals(area_of_country(\"China\", 9706961), \"China is 6.52% of the total world's landmass\")\n",
        "Test.assert_equals(area_of_country(\"Yemen\", 527968), \"Yemen is 0.35% of the total world's landmass\")\n",
        "Test.assert_equals(area_of_country(\"Switzerland\", 41284), \"Switzerland is 0.03% of the total world's landmass\")"
      ],
      "metadata": {
        "colab": {
          "base_uri": "https://localhost:8080/"
        },
        "id": "EQY1V1SWyDwl",
        "outputId": "c639a74d-68b7-4e17-d0e4-39c299bcd981"
      },
      "execution_count": null,
      "outputs": [
        {
          "output_type": "stream",
          "name": "stdout",
          "text": [
            "Passed\n",
            "Passed\n",
            "Passed\n",
            "Passed\n",
            "Passed\n",
            "Passed\n",
            "Passed\n"
          ]
        }
      ]
    },
    {
      "cell_type": "markdown",
      "source": [
        "https://edabit.com/challenge/9sN5tvXZjYCsKb4Mx"
      ],
      "metadata": {
        "id": "i5DR_o-O6jpg"
      }
    },
    {
      "cell_type": "code",
      "source": [
        "import math\n",
        "def cube_diagonal(volume):\n",
        "  a = volume**(1/3)\n",
        "  d = math.sqrt(3)*a\n",
        "  d = round(d,2)\n",
        "  return(d)"
      ],
      "metadata": {
        "id": "yuxOoihF6klY"
      },
      "execution_count": null,
      "outputs": []
    },
    {
      "cell_type": "code",
      "source": [
        "Test.assert_equals(cube_diagonal(8), 3.46)\n",
        "Test.assert_equals(cube_diagonal(343), 12.12)\n",
        "Test.assert_equals(cube_diagonal(1157.625), 18.19)\n",
        "Test.assert_equals(cube_diagonal(12), 3.97)\n",
        "Test.assert_equals(cube_diagonal(1), 1.73)\n",
        "Test.assert_equals(cube_diagonal(48), 6.29)\n",
        "Test.assert_equals(cube_diagonal(1728), 20.78)"
      ],
      "metadata": {
        "id": "rkWfQBVV6nq3"
      },
      "execution_count": null,
      "outputs": []
    },
    {
      "cell_type": "markdown",
      "source": [
        "https://edabit.com/challenge/f3jX2BwzAuR8DXsy4"
      ],
      "metadata": {
        "id": "b99_NEWyAtWk"
      }
    },
    {
      "cell_type": "code",
      "source": [
        "def fact_of_fact(n):\n",
        "\tarr = [1]\n",
        "\tb = 1\n",
        "\tfor i in range(1, n):\n",
        "\t\tb = arr[i-1]*(i+1)\n",
        "\t\tarr.append(b)\n",
        "\tans = arr[0]\n",
        "\tfor i in range(n):\n",
        "\t\tans = ans*arr[i]\n",
        "\treturn(ans)"
      ],
      "metadata": {
        "id": "V7KHeTvbAuSx"
      },
      "execution_count": null,
      "outputs": []
    },
    {
      "cell_type": "code",
      "source": [
        "Test.assert_equals(fact_of_fact(4), 288),\n",
        "Test.assert_equals(fact_of_fact(1), 1),\n",
        "Test.assert_equals(fact_of_fact(5), 34560),\n",
        "Test.assert_equals(fact_of_fact(2), 2),\n",
        "Test.assert_equals(fact_of_fact(6), 24883200),\n",
        "Test.assert_equals(fact_of_fact(3), 12),\n",
        "Test.assert_equals(fact_of_fact(14), 69113789582492712943486800506462734562847413501952000000000000000),\n",
        "Test.assert_equals(fact_of_fact(11), 265790267296391946810949632000000000),\n",
        "Test.assert_equals(fact_of_fact(7), 125411328000),\n",
        "Test.assert_equals(fact_of_fact(22), 73185187344722251685917129061596359994436879170423331597220791224873045503248922811481956548134913475324429128068839519292427638045690327208977109451014144000000000000000000000000000000000000000000),\n",
        "Test.assert_equals(fact_of_fact(13), 792786697595796795607377086400871488552960000000000000),\n",
        "Test.assert_equals(fact_of_fact(8), 5056584744960000),\n",
        "Test.assert_equals(fact_of_fact(10), 6658606584104736522240000000),\n",
        "Test.assert_equals(fact_of_fact(9), 1834933472251084800000 ),\n",
        "Test.assert_equals(fact_of_fact(12), 127313963299399416749559771247411200000000000 ),\n",
        "Test.assert_equals(fact_of_fact(15), 90378331112371142262979521568630736335023247731599748366336000000000000000000 ),\n",
        "Test.assert_equals(fact_of_fact(16), 1890966832292234727042877370627225068196418587883634153182519380410368000000000000000000000 ),\n",
        "Test.assert_equals(fact_of_fact(17), 672593129192865130334217631473916658864122332882577979675277211683839238972899328000000000000000000000000 ),\n",
        "Test.assert_equals(fact_of_fact(18), 4306192564997715382115598640379294845786123319603755168023536027873932927153136831171640950784000000000000000000000000000 ),\n",
        "Test.assert_equals(fact_of_fact(19), 523827226948912906162136183269887782788685420217963126789982275317725639664591791615428617583779071590924288000000000000000000000000000000 ),\n",
        "Test.assert_equals(fact_of_fact(20), 1274420312381610764187232669591245728094053576480399681464607478621086015845192873311847341571189522511934190056991170232320000000000000000000000000000000000 ),\n",
        "Test.assert_equals(fact_of_fact(21), 65111334482340755583337032079153276047018894694274871209973336023462275586396482041798135409436085152342597056410325664391109570976337100800000000000000000000000000000000000000 ),\n",
        "\n",
        "# Mubashir"
      ],
      "metadata": {
        "id": "gg3icu8nA1ax",
        "outputId": "20df4ca6-0d10-4842-8265-8009e97bcc45",
        "colab": {
          "base_uri": "https://localhost:8080/"
        }
      },
      "execution_count": null,
      "outputs": [
        {
          "output_type": "stream",
          "name": "stdout",
          "text": [
            "Passed\n",
            "Passed\n",
            "Passed\n",
            "Passed\n",
            "Passed\n",
            "Passed\n",
            "Passed\n",
            "Passed\n",
            "Passed\n",
            "Passed\n",
            "Passed\n",
            "Passed\n",
            "Passed\n",
            "Passed\n",
            "Passed\n",
            "Passed\n",
            "Passed\n",
            "Passed\n",
            "Passed\n",
            "Passed\n",
            "Passed\n",
            "Passed\n"
          ]
        },
        {
          "output_type": "execute_result",
          "data": {
            "text/plain": [
              "(None,)"
            ]
          },
          "metadata": {},
          "execution_count": 12
        }
      ]
    },
    {
      "cell_type": "markdown",
      "source": [
        "https://edabit.com/challenge/WXqH9qvvGkmx4dMvp"
      ],
      "metadata": {
        "id": "MF_PdxVnCsqf"
      }
    },
    {
      "cell_type": "code",
      "source": [
        "def fizz_buzz(num):\n",
        "\tif num % 15 == 0:\n",
        "\t\tans = \"FizzBuzz\"\n",
        "\telse:\n",
        "\t\tif num % 3 == 0:\n",
        "\t\t\tans = \"Fizz\"\n",
        "\t\telse:\n",
        "\t\t\tif num % 5 == 0:\n",
        "\t\t\t\tans = \"Buzz\"\n",
        "\t\t\telse:\n",
        "\t\t\t\tans = str(num)\n",
        "\treturn(ans)"
      ],
      "metadata": {
        "id": "V2x8GOuKE7yt"
      },
      "execution_count": 13,
      "outputs": []
    },
    {
      "cell_type": "code",
      "source": [
        "Test.assert_equals(fizz_buzz(3), \"Fizz\", \"You gave \" + fizz_buzz(3) + \" and Fizz was needed\")\n",
        "Test.assert_equals(fizz_buzz(5), \"Buzz\", \"You gave \" + fizz_buzz(5) + \" and Buzz was needed\")\n",
        "Test.assert_equals(fizz_buzz(15), \"FizzBuzz\", \"You gave \" + fizz_buzz(15) + \" and FizzBuzz was needed\")\n",
        "Test.assert_equals(fizz_buzz(10), \"Buzz\", \"You gave \" + fizz_buzz(10) + \" and Buzz was needed\")\n",
        "Test.assert_equals(fizz_buzz(98), \"98\", \"You gave \" + fizz_buzz(98) + \" and 98 was needed\")"
      ],
      "metadata": {
        "colab": {
          "base_uri": "https://localhost:8080/"
        },
        "id": "uUI-0LHBFBhF",
        "outputId": "928aa0bb-1eab-44c6-a45b-b2a76b404e5b"
      },
      "execution_count": 14,
      "outputs": [
        {
          "output_type": "stream",
          "name": "stdout",
          "text": [
            "Passed\n",
            "Passed\n",
            "Passed\n",
            "Passed\n",
            "Passed\n"
          ]
        }
      ]
    }
  ]
}
