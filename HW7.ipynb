{
 "cells": [
  {
   "cell_type": "code",
   "execution_count": 1,
   "id": "28f8d83b",
   "metadata": {},
   "outputs": [],
   "source": [
    "import numpy as np\n",
    "from sklearn.datasets import fetch_20newsgroups\n",
    "from sklearn.feature_extraction.text import CountVectorizer\n",
    "from sklearn.feature_extraction import _stop_words\n",
    "\n",
    "newsgroups_train = fetch_20newsgroups(subset='train', remove=('headers', 'footers', 'quotes'))\n",
    "vectorizer = CountVectorizer(lowercase=True, stop_words=\"english\",analyzer='word', \n",
    "                             binary=True,min_df=25)\n",
    "xtrain = vectorizer.fit_transform(newsgroups_train.data)"
   ]
  },
  {
   "cell_type": "code",
   "execution_count": 2,
   "id": "a81d0fff",
   "metadata": {},
   "outputs": [],
   "source": [
    "import numpy as np\n",
    "from tqdm import tqdm\n",
    "\n",
    "xtrain = vectorizer.fit_transform(newsgroups_train.data)\n",
    "xtrain.toarray()\n",
    "dc,wd= xtrain.nonzero() \n",
    "\n",
    "T = 20\n",
    "\n",
    "D = np.zeros(xtrain.shape[0]*T).reshape(xtrain.shape[0], T)\n",
    "W = np.zeros(T*xtrain.shape[1]).reshape(T, xtrain.shape[1])\n",
    "K = np.zeros(T)\n",
    "\n",
    "def LDA(X_train, k1, k2, D, W, K):\n",
    "    xtrain.toarray()\n",
    "    dc, wd = xtrain.nonzero() \n",
    "    \n",
    "    r = [np.random.choice(N) for i in range(len(docs))]\n",
    "    \n",
    "    \n",
    "    \n",
    "    for d, w, tg in zip(dc, wd, r):\n",
    "        D[d, tg] += 1\n",
    "        W[tg, w] += 1\n",
    "        K[tg] += 1\n",
    "        \n",
    "    for tek_iter in tqdm(range(50)):\n",
    "        for i in range(len(docs)):\n",
    "            D[dc[i], r[i]] -= 1\n",
    "            W[r[i], wd[i]] -= 1\n",
    "            K[r[i]]-=1\n",
    "            \n",
    "            z = (D[dc[i], :] + k1)*(W[:, wd[i]] + k2[wd[i]]) / (K + k2.sum())\n",
    "            r[i] = np.random.choice(np.arange(20), p = z / z.sum())\n",
    "            \n",
    "            D[dc[i], r[i]] += 1\n",
    "            W[r[i], wd[i]] += 1\n",
    "            K[r[i]] += 1\n",
    "    return W"
   ]
  },
  {
   "cell_type": "code",
   "execution_count": 3,
   "id": "14e8c91c",
   "metadata": {},
   "outputs": [
    {
     "name": "stderr",
     "output_type": "stream",
     "text": [
      "100%|██████████████████████████████████████████| 50/50 [26:20<00:00, 31.60s/it]\n"
     ]
    }
   ],
   "source": [
    "W = LDA(xtrain, np.ones(T), np.ones(xtrain.shape[1]), D, W, K)"
   ]
  },
  {
   "cell_type": "code",
   "execution_count": 5,
   "id": "27f6b309",
   "metadata": {},
   "outputs": [
    {
     "name": "stdout",
     "output_type": "stream",
     "text": [
      "Tag 1 \tcase\tcrime\tgovernment\tgun\tguns\tlaw\tlaws\tpeople\trights\tstate\n",
      "Tag 2 \tcode\tfile\tfollowing\tinclude\tline\tset\tsun\tuse\tversion\twindow\n",
      "Tag 3 \tcard\tcomputer\tdisk\tdrive\thard\tmac\tmemory\tsoftware\tuse\tvideo\n",
      "Tag 4 \tchip\tclipper\tencryption\tgovernment\tkey\tkeys\tphone\tpublic\tuse\tusing\n",
      "Tag 5 \t10\tcost\tearth\thigh\tlarge\tlow\tnasa\tscience\tsmall\tspace\n",
      "Tag 6 \tadvance\tdoes\thelp\thi\tknow\tproblem\tthanks\tuse\tusing\twindows\n",
      "Tag 7 \tbanks\tcause\tdoes\tdon\tedu\tgood\tgordon\tknow\tlike\tsoon\n",
      "Tag 8 \tbike\tcar\tcars\tengine\tgoing\tgood\tjust\tlike\tlittle\tright\n",
      "Tag 9 \tcame\tdid\tdidn\tgot\thit\tleft\tnight\tsaid\tsecond\twent\n",
      "Tag 10 \tago\tgood\tjust\tlike\tmake\tnew\tthink\ttime\tused\tway\n",
      "Tag 11 \tchildren\tisrael\tisraeli\tjewish\tjews\tkilled\tpeople\twar\tworld\tyears\n",
      "Tag 12 \taddress\tavailable\tcom\tedu\temail\tinformation\tinternet\tmail\tsend\tuniversity\n",
      "Tag 13 \tdon\tjust\tknow\tlike\tlot\treally\tstuff\tthing\tthink\tway\n",
      "Tag 14 \tbetter\tdon\tgood\tgot\tjust\tknow\tlike\treally\tright\tthink\n",
      "Tag 15 \tactually\tbelieve\tcase\tfar\tlike\tmakes\tpeople\tquestion\tsay\tthink\n",
      "Tag 16 \t10\tbest\tcondition\tinterested\tnew\toffer\tprice\tsale\tsell\tused\n",
      "Tag 17 \t1993\tamerican\tapril\tincluding\tnational\tnew\tpresident\tstate\tstates\ttoday\n",
      "Tag 18 \tdoes\tdon\tjust\tlike\tmake\tmean\tpeople\tpoint\tsay\tthink\n",
      "Tag 19 \tbelieve\tbible\tchristian\tchristians\tdoes\tfact\tgod\tjesus\tlife\tsay\n",
      "Tag 20 \t10\t11\t13\t18\tgame\tgames\tplay\tseason\tteam\tyear\n"
     ]
    }
   ],
   "source": [
    "A = np.argsort(W, axis=1)[:, -10:]\n",
    "for i in range(20):\n",
    "    matrix = np.zeros((1, X_train.shape[1]))\n",
    "    for j in A[i]:\n",
    "        matrix[0, j] = 1\n",
    "    print('Tag {} \\t{}'.format(i + 1, '\\t'.join(vectorizer.inverse_transform(matrix)[0])))"
   ]
  },
  {
   "cell_type": "code",
   "execution_count": 4,
   "id": "07efd7c2",
   "metadata": {},
   "outputs": [
    {
     "data": {
      "text/plain": [
       "['alt.atheism',\n",
       " 'comp.graphics',\n",
       " 'comp.os.ms-windows.misc',\n",
       " 'comp.sys.ibm.pc.hardware',\n",
       " 'comp.sys.mac.hardware',\n",
       " 'comp.windows.x',\n",
       " 'misc.forsale',\n",
       " 'rec.autos',\n",
       " 'rec.motorcycles',\n",
       " 'rec.sport.baseball',\n",
       " 'rec.sport.hockey',\n",
       " 'sci.crypt',\n",
       " 'sci.electronics',\n",
       " 'sci.med',\n",
       " 'sci.space',\n",
       " 'soc.religion.christian',\n",
       " 'talk.politics.guns',\n",
       " 'talk.politics.mideast',\n",
       " 'talk.politics.misc',\n",
       " 'talk.religion.misc']"
      ]
     },
     "execution_count": 4,
     "metadata": {},
     "output_type": "execute_result"
    }
   ],
   "source": [
    "newsgroups_train.target_names"
   ]
  },
  {
   "cell_type": "markdown",
   "id": "5bf34084",
   "metadata": {},
   "source": [
    "Отчетливо видим некоторые темы:\n",
    "\n",
    "Tag 1 - 'talk.politics.misc',\n",
    "Tag 2 - 'comp.os.ms-windows.misc',\n",
    "Tag 3 - 'comp.sys.ibm.pc.hardware', 'comp.sys.mac.hardware', \n",
    "Tag 4 - политика ?\n",
    "Tag 5 - полет в космос\n",
    "Tag 6 - ? как-будто поддержка windows\n",
    "Tag 7 - ? \n",
    "Tag 8 - автомобили/байки \n",
    "Tag 9 - ?\n",
    "Tag 10 - ?\n",
    "Tag 12 - ?\n",
    "Tag 13 - ?\n",
    "Tag 14 - ?\n",
    "Tag 15 - ?\n",
    "Tag 16 - продажи\n",
    "Tag 17 - политика\n",
    "Tag 18 - ?\n",
    "Tag 19 - атеизм или религия\n",
    "Tag 20 - 'rec.sport.baseball', 'rec.sport.hockey',"
   ]
  }
 ],
 "metadata": {
  "kernelspec": {
   "display_name": "Python 3 (ipykernel)",
   "language": "python",
   "name": "python3"
  },
  "language_info": {
   "codemirror_mode": {
    "name": "ipython",
    "version": 3
   },
   "file_extension": ".py",
   "mimetype": "text/x-python",
   "name": "python",
   "nbconvert_exporter": "python",
   "pygments_lexer": "ipython3",
   "version": "3.11.1"
  }
 },
 "nbformat": 4,
 "nbformat_minor": 5
}
